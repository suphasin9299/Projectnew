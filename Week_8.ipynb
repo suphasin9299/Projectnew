{
  "nbformat": 4,
  "nbformat_minor": 0,
  "metadata": {
    "colab": {
      "provenance": [],
      "collapsed_sections": [],
      "include_colab_link": true
    },
    "kernelspec": {
      "name": "python3",
      "display_name": "Python 3"
    },
    "language_info": {
      "name": "python"
    }
  },
  "cells": [
    {
      "cell_type": "markdown",
      "metadata": {
        "id": "view-in-github",
        "colab_type": "text"
      },
      "source": [
        "<a href=\"https://colab.research.google.com/github/suphasin9299/Projectnew/blob/main/Week_8.ipynb\" target=\"_parent\"><img src=\"https://colab.research.google.com/assets/colab-badge.svg\" alt=\"Open In Colab\"/></a>"
      ]
    },
    {
      "cell_type": "code",
      "execution_count": null,
      "metadata": {
        "id": "VeCr8A_ymvBk"
      },
      "outputs": [],
      "source": [
        "1 # ติดตั้งครั้งแรก\n",
        "!pip install https://github.com/pandas-profiling/pandas-profiling/archive/master.zip\n"
      ]
    },
    {
      "cell_type": "code",
      "source": [
        "import numpy as np\n",
        "import tensorflow as tf\n",
        "from tensorflow import keras\n",
        "import pandas as pd\n",
        "from matplotlib import pyplot as plt\n",
        "%matplotlib inline "
      ],
      "metadata": {
        "id": "vqpHuYQkpZZG"
      },
      "execution_count": null,
      "outputs": []
    },
    {
      "cell_type": "code",
      "source": [
        "df = pd.read_csv(\"/content/xx_dataset.csv\") #dataframe\n",
        "df"
      ],
      "metadata": {
        "id": "qW5EVFKPqBwB"
      },
      "execution_count": null,
      "outputs": []
    },
    {
      "cell_type": "code",
      "source": [
        "df.shape"
      ],
      "metadata": {
        "id": "aHodHBSOFzbo"
      },
      "execution_count": null,
      "outputs": []
    },
    {
      "cell_type": "code",
      "source": [
        "df.columns"
      ],
      "metadata": {
        "id": "fecBGVfRGHi3"
      },
      "execution_count": null,
      "outputs": []
    },
    {
      "cell_type": "code",
      "source": [
        "df.isnull().any()"
      ],
      "metadata": {
        "id": "XBF2nBSiGKpY"
      },
      "execution_count": null,
      "outputs": []
    },
    {
      "cell_type": "code",
      "source": [
        "df.nunique()"
      ],
      "metadata": {
        "id": "tKfnR5gQGX3z"
      },
      "execution_count": null,
      "outputs": []
    },
    {
      "cell_type": "code",
      "source": [
        "from google.colab import drive\n",
        "drive.mount('/content/drive')"
      ],
      "metadata": {
        "id": "FGOJG84ykA66"
      },
      "execution_count": null,
      "outputs": []
    },
    {
      "cell_type": "code",
      "source": [
        "df.describe(include='all')"
      ],
      "metadata": {
        "id": "DsRfj2X3G1eJ"
      },
      "execution_count": null,
      "outputs": []
    },
    {
      "cell_type": "code",
      "source": [
        "from pandas_profiling import ProfileReport\n",
        "\n",
        "profile = ProfileReport(df)\n",
        "profile"
      ],
      "metadata": {
        "id": "3woTSdcDG8Uq"
      },
      "execution_count": null,
      "outputs": []
    },
    {
      "cell_type": "code",
      "source": [
        "df['gender'] = df['gender'].map({'Female' :1, 'Male':0})\n",
        "df['Marriage'] = df['Marriage'].map({'Yes': 1, 'No':0 })\n",
        "df['work_type'] = df['work_type'].map({'Private': 0, 'Self-employed': 1, 'Govt_job':2, 'children':3})\n",
        "df['Living_type'] = df['Living_type'].map({'Urban':1,'Rural':0})\n",
        "df['smoking_status'] = df['smoking_status'].map({'formerly smoked':0, 'never smoked':1, 'smokes':2, 'Unknown':3})\n",
        "                                                  \n",
        "df"
      ],
      "metadata": {
        "id": "rLeI1M2lcR8n"
      },
      "execution_count": null,
      "outputs": []
    },
    {
      "cell_type": "code",
      "source": [
        "y =df['illness']\n",
        "X = df.drop(columns=['illness'])"
      ],
      "metadata": {
        "id": "o--Y4fBpe-r2"
      },
      "execution_count": null,
      "outputs": []
    },
    {
      "cell_type": "code",
      "source": [
        "X.head()"
      ],
      "metadata": {
        "id": "gBvsx34_fegL"
      },
      "execution_count": null,
      "outputs": []
    },
    {
      "cell_type": "code",
      "source": [
        "y.head()"
      ],
      "metadata": {
        "id": "1h8APD2gflpH"
      },
      "execution_count": null,
      "outputs": []
    },
    {
      "cell_type": "code",
      "source": [
        "y.value_counts()"
      ],
      "metadata": {
        "id": "gSxm7WodftgR"
      },
      "execution_count": null,
      "outputs": []
    },
    {
      "cell_type": "code",
      "source": [
        "import imblearn\n",
        "from imblearn.over_sampling import RandomOverSampler\n",
        "\n",
        "oversample = RandomOverSampler(sampling_strategy='minority')\n",
        "\n",
        "X,y= oversample.fit_resample(X,y)"
      ],
      "metadata": {
        "id": "bMLutWMff8Tq"
      },
      "execution_count": null,
      "outputs": []
    },
    {
      "cell_type": "code",
      "source": [
        "y.value_counts()"
      ],
      "metadata": {
        "id": "PjtJzAbehenj"
      },
      "execution_count": null,
      "outputs": []
    },
    {
      "cell_type": "code",
      "source": [
        "X"
      ],
      "metadata": {
        "id": "lI5UIQjxhiwq"
      },
      "execution_count": null,
      "outputs": []
    },
    {
      "cell_type": "code",
      "source": [
        "from sklearn.preprocessing import MinMaxScaler\n",
        "\n",
        "scale=MinMaxScaler()\n",
        "X_scaled=pd.DataFrame(scale.fit_transform(X),columns=X.columns)\n",
        "X_scaled"
      ],
      "metadata": {
        "id": "f1keLJbkhl9V"
      },
      "execution_count": null,
      "outputs": []
    },
    {
      "cell_type": "code",
      "source": [
        "from sklearn.model_selection import train_test_split\n",
        "\n",
        "X_train ,x_test, y_train, y_test =train_test_split(X_scaled, y, test_size =0.2, random_state =42)"
      ],
      "metadata": {
        "id": "8Ec71_nbiJZD"
      },
      "execution_count": null,
      "outputs": []
    },
    {
      "cell_type": "code",
      "source": [
        "model = keras.Sequential([\n",
        "    keras.layers.Dense(1, activation='relu',input_shape=[10]),\n",
        "    keras.layers.Dense(1, activation='sigmoid')\n",
        "])\n",
        "\n",
        "model.summary()"
      ],
      "metadata": {
        "colab": {
          "base_uri": "https://localhost:8080/"
        },
        "id": "ncp3FpQXiw58",
        "outputId": "a1813815-6750-49a5-8253-431fc3cc72cb"
      },
      "execution_count": 38,
      "outputs": [
        {
          "output_type": "stream",
          "name": "stdout",
          "text": [
            "Model: \"sequential\"\n",
            "_________________________________________________________________\n",
            " Layer (type)                Output Shape              Param #   \n",
            "=================================================================\n",
            " dense_7 (Dense)             (None, 1)                 11        \n",
            "                                                                 \n",
            " dense_8 (Dense)             (None, 1)                 2         \n",
            "                                                                 \n",
            "=================================================================\n",
            "Total params: 13\n",
            "Trainable params: 13\n",
            "Non-trainable params: 0\n",
            "_________________________________________________________________\n"
          ]
        }
      ]
    },
    {
      "cell_type": "code",
      "source": [
        "model.compile(optimizer= 'adam', \n",
        "                      loss='binary_crossentropy',  \n",
        "                      metrics = ['accuracy'])   "
      ],
      "metadata": {
        "id": "jKmFZ5qPkrr0"
      },
      "execution_count": 39,
      "outputs": []
    },
    {
      "cell_type": "code",
      "source": [
        "history_model = model.fit(X_train, y_train, epochs = 100)"
      ],
      "metadata": {
        "colab": {
          "base_uri": "https://localhost:8080/"
        },
        "id": "JsZxolDGkutr",
        "outputId": "a3f02c06-c9f8-4acc-a3c8-c57707d3754b"
      },
      "execution_count": 40,
      "outputs": [
        {
          "output_type": "stream",
          "name": "stdout",
          "text": [
            "Epoch 1/100\n",
            "237/237 [==============================] - 1s 2ms/step - loss: nan - accuracy: 0.5001\n",
            "Epoch 2/100\n",
            "237/237 [==============================] - 0s 2ms/step - loss: nan - accuracy: 0.5001\n",
            "Epoch 3/100\n",
            "237/237 [==============================] - 0s 2ms/step - loss: nan - accuracy: 0.5001\n",
            "Epoch 4/100\n",
            "237/237 [==============================] - 0s 2ms/step - loss: nan - accuracy: 0.5001\n",
            "Epoch 5/100\n",
            "237/237 [==============================] - 0s 2ms/step - loss: nan - accuracy: 0.5001\n",
            "Epoch 6/100\n",
            "237/237 [==============================] - 0s 2ms/step - loss: nan - accuracy: 0.5001\n",
            "Epoch 7/100\n",
            "237/237 [==============================] - 0s 2ms/step - loss: nan - accuracy: 0.5001\n",
            "Epoch 8/100\n",
            "237/237 [==============================] - 0s 2ms/step - loss: nan - accuracy: 0.5001\n",
            "Epoch 9/100\n",
            "237/237 [==============================] - 0s 2ms/step - loss: nan - accuracy: 0.5001\n",
            "Epoch 10/100\n",
            "237/237 [==============================] - 0s 2ms/step - loss: nan - accuracy: 0.5001\n",
            "Epoch 11/100\n",
            "237/237 [==============================] - 0s 2ms/step - loss: nan - accuracy: 0.5001\n",
            "Epoch 12/100\n",
            "237/237 [==============================] - 0s 2ms/step - loss: nan - accuracy: 0.5001\n",
            "Epoch 13/100\n",
            "237/237 [==============================] - 0s 2ms/step - loss: nan - accuracy: 0.5001\n",
            "Epoch 14/100\n",
            "237/237 [==============================] - 0s 2ms/step - loss: nan - accuracy: 0.5001\n",
            "Epoch 15/100\n",
            "237/237 [==============================] - 0s 2ms/step - loss: nan - accuracy: 0.5001\n",
            "Epoch 16/100\n",
            "237/237 [==============================] - 0s 2ms/step - loss: nan - accuracy: 0.5001\n",
            "Epoch 17/100\n",
            "237/237 [==============================] - 0s 2ms/step - loss: nan - accuracy: 0.5001\n",
            "Epoch 18/100\n",
            "237/237 [==============================] - 0s 2ms/step - loss: nan - accuracy: 0.5001\n",
            "Epoch 19/100\n",
            "237/237 [==============================] - 0s 2ms/step - loss: nan - accuracy: 0.5001\n",
            "Epoch 20/100\n",
            "237/237 [==============================] - 0s 2ms/step - loss: nan - accuracy: 0.5001\n",
            "Epoch 21/100\n",
            "237/237 [==============================] - 0s 2ms/step - loss: nan - accuracy: 0.5001\n",
            "Epoch 22/100\n",
            "237/237 [==============================] - 0s 2ms/step - loss: nan - accuracy: 0.5001\n",
            "Epoch 23/100\n",
            "237/237 [==============================] - 0s 2ms/step - loss: nan - accuracy: 0.5001\n",
            "Epoch 24/100\n",
            "237/237 [==============================] - 0s 2ms/step - loss: nan - accuracy: 0.5001\n",
            "Epoch 25/100\n",
            "237/237 [==============================] - 0s 2ms/step - loss: nan - accuracy: 0.5001\n",
            "Epoch 26/100\n",
            "237/237 [==============================] - 0s 2ms/step - loss: nan - accuracy: 0.5001\n",
            "Epoch 27/100\n",
            "237/237 [==============================] - 0s 2ms/step - loss: nan - accuracy: 0.5001\n",
            "Epoch 28/100\n",
            "237/237 [==============================] - 0s 2ms/step - loss: nan - accuracy: 0.5001\n",
            "Epoch 29/100\n",
            "237/237 [==============================] - 0s 2ms/step - loss: nan - accuracy: 0.5001\n",
            "Epoch 30/100\n",
            "237/237 [==============================] - 0s 2ms/step - loss: nan - accuracy: 0.5001\n",
            "Epoch 31/100\n",
            "237/237 [==============================] - 0s 2ms/step - loss: nan - accuracy: 0.5001\n",
            "Epoch 32/100\n",
            "237/237 [==============================] - 0s 2ms/step - loss: nan - accuracy: 0.5001\n",
            "Epoch 33/100\n",
            "237/237 [==============================] - 0s 2ms/step - loss: nan - accuracy: 0.5001\n",
            "Epoch 34/100\n",
            "237/237 [==============================] - 0s 2ms/step - loss: nan - accuracy: 0.5001\n",
            "Epoch 35/100\n",
            "237/237 [==============================] - 0s 2ms/step - loss: nan - accuracy: 0.5001\n",
            "Epoch 36/100\n",
            "237/237 [==============================] - 0s 2ms/step - loss: nan - accuracy: 0.5001\n",
            "Epoch 37/100\n",
            "237/237 [==============================] - 0s 2ms/step - loss: nan - accuracy: 0.5001\n",
            "Epoch 38/100\n",
            "237/237 [==============================] - 0s 2ms/step - loss: nan - accuracy: 0.5001\n",
            "Epoch 39/100\n",
            "237/237 [==============================] - 0s 2ms/step - loss: nan - accuracy: 0.5001\n",
            "Epoch 40/100\n",
            "237/237 [==============================] - 0s 2ms/step - loss: nan - accuracy: 0.5001\n",
            "Epoch 41/100\n",
            "237/237 [==============================] - 0s 2ms/step - loss: nan - accuracy: 0.5001\n",
            "Epoch 42/100\n",
            "237/237 [==============================] - 0s 2ms/step - loss: nan - accuracy: 0.5001\n",
            "Epoch 43/100\n",
            "237/237 [==============================] - 0s 2ms/step - loss: nan - accuracy: 0.5001\n",
            "Epoch 44/100\n",
            "237/237 [==============================] - 0s 2ms/step - loss: nan - accuracy: 0.5001\n",
            "Epoch 45/100\n",
            "237/237 [==============================] - 0s 2ms/step - loss: nan - accuracy: 0.5001\n",
            "Epoch 46/100\n",
            "237/237 [==============================] - 0s 2ms/step - loss: nan - accuracy: 0.5001\n",
            "Epoch 47/100\n",
            "237/237 [==============================] - 0s 2ms/step - loss: nan - accuracy: 0.5001\n",
            "Epoch 48/100\n",
            "237/237 [==============================] - 0s 2ms/step - loss: nan - accuracy: 0.5001\n",
            "Epoch 49/100\n",
            "237/237 [==============================] - 0s 2ms/step - loss: nan - accuracy: 0.5001\n",
            "Epoch 50/100\n",
            "237/237 [==============================] - 0s 2ms/step - loss: nan - accuracy: 0.5001\n",
            "Epoch 51/100\n",
            "237/237 [==============================] - 0s 2ms/step - loss: nan - accuracy: 0.5001\n",
            "Epoch 52/100\n",
            "237/237 [==============================] - 0s 2ms/step - loss: nan - accuracy: 0.5001\n",
            "Epoch 53/100\n",
            "237/237 [==============================] - 0s 2ms/step - loss: nan - accuracy: 0.5001\n",
            "Epoch 54/100\n",
            "237/237 [==============================] - 0s 2ms/step - loss: nan - accuracy: 0.5001\n",
            "Epoch 55/100\n",
            "237/237 [==============================] - 0s 2ms/step - loss: nan - accuracy: 0.5001\n",
            "Epoch 56/100\n",
            "237/237 [==============================] - 0s 2ms/step - loss: nan - accuracy: 0.5001\n",
            "Epoch 57/100\n",
            "237/237 [==============================] - 0s 2ms/step - loss: nan - accuracy: 0.5001\n",
            "Epoch 58/100\n",
            "237/237 [==============================] - 0s 2ms/step - loss: nan - accuracy: 0.5001\n",
            "Epoch 59/100\n",
            "237/237 [==============================] - 0s 2ms/step - loss: nan - accuracy: 0.5001\n",
            "Epoch 60/100\n",
            "237/237 [==============================] - 0s 2ms/step - loss: nan - accuracy: 0.5001\n",
            "Epoch 61/100\n",
            "237/237 [==============================] - 0s 2ms/step - loss: nan - accuracy: 0.5001\n",
            "Epoch 62/100\n",
            "237/237 [==============================] - 0s 2ms/step - loss: nan - accuracy: 0.5001\n",
            "Epoch 63/100\n",
            "237/237 [==============================] - 0s 2ms/step - loss: nan - accuracy: 0.5001\n",
            "Epoch 64/100\n",
            "237/237 [==============================] - 0s 2ms/step - loss: nan - accuracy: 0.5001\n",
            "Epoch 65/100\n",
            "237/237 [==============================] - 0s 2ms/step - loss: nan - accuracy: 0.5001\n",
            "Epoch 66/100\n",
            "237/237 [==============================] - 0s 2ms/step - loss: nan - accuracy: 0.5001\n",
            "Epoch 67/100\n",
            "237/237 [==============================] - 0s 2ms/step - loss: nan - accuracy: 0.5001\n",
            "Epoch 68/100\n",
            "237/237 [==============================] - 0s 2ms/step - loss: nan - accuracy: 0.5001\n",
            "Epoch 69/100\n",
            "237/237 [==============================] - 0s 2ms/step - loss: nan - accuracy: 0.5001\n",
            "Epoch 70/100\n",
            "237/237 [==============================] - 0s 2ms/step - loss: nan - accuracy: 0.5001\n",
            "Epoch 71/100\n",
            "237/237 [==============================] - 0s 2ms/step - loss: nan - accuracy: 0.5001\n",
            "Epoch 72/100\n",
            "237/237 [==============================] - 0s 2ms/step - loss: nan - accuracy: 0.5001\n",
            "Epoch 73/100\n",
            "237/237 [==============================] - 0s 2ms/step - loss: nan - accuracy: 0.5001\n",
            "Epoch 74/100\n",
            "237/237 [==============================] - 0s 2ms/step - loss: nan - accuracy: 0.5001\n",
            "Epoch 75/100\n",
            "237/237 [==============================] - 0s 2ms/step - loss: nan - accuracy: 0.5001\n",
            "Epoch 76/100\n",
            "237/237 [==============================] - 0s 2ms/step - loss: nan - accuracy: 0.5001\n",
            "Epoch 77/100\n",
            "237/237 [==============================] - 0s 2ms/step - loss: nan - accuracy: 0.5001\n",
            "Epoch 78/100\n",
            "237/237 [==============================] - 0s 2ms/step - loss: nan - accuracy: 0.5001\n",
            "Epoch 79/100\n",
            "237/237 [==============================] - 0s 2ms/step - loss: nan - accuracy: 0.5001\n",
            "Epoch 80/100\n",
            "237/237 [==============================] - 0s 2ms/step - loss: nan - accuracy: 0.5001\n",
            "Epoch 81/100\n",
            "237/237 [==============================] - 0s 2ms/step - loss: nan - accuracy: 0.5001\n",
            "Epoch 82/100\n",
            "237/237 [==============================] - 0s 2ms/step - loss: nan - accuracy: 0.5001\n",
            "Epoch 83/100\n",
            "237/237 [==============================] - 0s 2ms/step - loss: nan - accuracy: 0.5001\n",
            "Epoch 84/100\n",
            "237/237 [==============================] - 0s 2ms/step - loss: nan - accuracy: 0.5001\n",
            "Epoch 85/100\n",
            "237/237 [==============================] - 0s 2ms/step - loss: nan - accuracy: 0.5001\n",
            "Epoch 86/100\n",
            "237/237 [==============================] - 0s 2ms/step - loss: nan - accuracy: 0.5001\n",
            "Epoch 87/100\n",
            "237/237 [==============================] - 0s 2ms/step - loss: nan - accuracy: 0.5001\n",
            "Epoch 88/100\n",
            "237/237 [==============================] - 1s 2ms/step - loss: nan - accuracy: 0.5001\n",
            "Epoch 89/100\n",
            "237/237 [==============================] - 1s 3ms/step - loss: nan - accuracy: 0.5001\n",
            "Epoch 90/100\n",
            "237/237 [==============================] - 1s 2ms/step - loss: nan - accuracy: 0.5001\n",
            "Epoch 91/100\n",
            "237/237 [==============================] - 1s 3ms/step - loss: nan - accuracy: 0.5001\n",
            "Epoch 92/100\n",
            "237/237 [==============================] - 1s 3ms/step - loss: nan - accuracy: 0.5001\n",
            "Epoch 93/100\n",
            "237/237 [==============================] - 1s 3ms/step - loss: nan - accuracy: 0.5001\n",
            "Epoch 94/100\n",
            "237/237 [==============================] - 1s 2ms/step - loss: nan - accuracy: 0.5001\n",
            "Epoch 95/100\n",
            "237/237 [==============================] - 0s 2ms/step - loss: nan - accuracy: 0.5001\n",
            "Epoch 96/100\n",
            "237/237 [==============================] - 0s 2ms/step - loss: nan - accuracy: 0.5001\n",
            "Epoch 97/100\n",
            "237/237 [==============================] - 0s 2ms/step - loss: nan - accuracy: 0.5001\n",
            "Epoch 98/100\n",
            "237/237 [==============================] - 0s 2ms/step - loss: nan - accuracy: 0.5001\n",
            "Epoch 99/100\n",
            "237/237 [==============================] - 0s 2ms/step - loss: nan - accuracy: 0.5001\n",
            "Epoch 100/100\n",
            "237/237 [==============================] - 0s 2ms/step - loss: nan - accuracy: 0.5001\n"
          ]
        }
      ]
    },
    {
      "cell_type": "code",
      "source": [
        "model.evaluate(x_test, y_test)"
      ],
      "metadata": {
        "colab": {
          "base_uri": "https://localhost:8080/"
        },
        "id": "c9DrUAzKllNj",
        "outputId": "7d0b83a5-f8b9-4e62-dcad-d0e9aec8d8fc"
      },
      "execution_count": 41,
      "outputs": [
        {
          "output_type": "stream",
          "name": "stdout",
          "text": [
            "60/60 [==============================] - 0s 1ms/step - loss: nan - accuracy: 0.4995\n"
          ]
        },
        {
          "output_type": "execute_result",
          "data": {
            "text/plain": [
              "[nan, 0.4994720220565796]"
            ]
          },
          "metadata": {},
          "execution_count": 41
        }
      ]
    },
    {
      "cell_type": "code",
      "source": [
        "plt.plot(history_model.history['accuracy'], label='Train accuracy')\n",
        "plt.ylabel('Accuracy')\n",
        "plt.xlabel('No. epoch')\n",
        "plt.legend()\n",
        "plt.show()"
      ],
      "metadata": {
        "colab": {
          "base_uri": "https://localhost:8080/",
          "height": 279
        },
        "id": "pQsZLcRulsms",
        "outputId": "7424fd31-20cb-4850-b8be-8430611c36ca"
      },
      "execution_count": 42,
      "outputs": [
        {
          "output_type": "display_data",
          "data": {
            "text/plain": [
              "<Figure size 432x288 with 1 Axes>"
            ],
            "image/png": "[encoded data removed]"
          },
          "metadata": {
            "needs_background": "light"
          }
        }
      ]
    },
    {
      "cell_type": "code",
      "source": [
        "model.save('week_8.h5')"
      ],
      "metadata": {
        "id": "aFwRcsNVLjiU"
      },
      "execution_count": 43,
      "outputs": []
    }
  ]
}